{
 "cells": [
  {
   "cell_type": "markdown",
   "id": "87971c7b",
   "metadata": {},
   "source": [
    "\"This notebook has been made for the project at patika.dev .\" "
   ]
  },
  {
   "cell_type": "markdown",
   "id": "3e52a4e2",
   "metadata": {},
   "source": [
    "The aim is to use the eight features to predict each of the two responses."
   ]
  },
  {
   "cell_type": "code",
   "execution_count": 1,
   "id": "8b757a26",
   "metadata": {},
   "outputs": [],
   "source": [
    "#libraries import\n",
    "import pandas as pd\n",
    "import numpy as np\n",
    "from sklearn.ensemble import RandomForestRegressor\n",
    "from sklearn.linear_model import LinearRegression\n",
    "from sklearn.naive_bayes import GaussianNB\n",
    "import math"
   ]
  },
  {
   "cell_type": "markdown",
   "id": "5fdb7ca7",
   "metadata": {},
   "source": [
    "# Download and Read Data"
   ]
  },
  {
   "cell_type": "code",
   "execution_count": 4,
   "id": "c0794df1",
   "metadata": {},
   "outputs": [
    {
     "data": {
      "text/html": [
       "<div>\n",
       "<style scoped>\n",
       "    .dataframe tbody tr th:only-of-type {\n",
       "        vertical-align: middle;\n",
       "    }\n",
       "\n",
       "    .dataframe tbody tr th {\n",
       "        vertical-align: top;\n",
       "    }\n",
       "\n",
       "    .dataframe thead th {\n",
       "        text-align: right;\n",
       "    }\n",
       "</style>\n",
       "<table border=\"1\" class=\"dataframe\">\n",
       "  <thead>\n",
       "    <tr style=\"text-align: right;\">\n",
       "      <th></th>\n",
       "      <th>X1</th>\n",
       "      <th>X2</th>\n",
       "      <th>X3</th>\n",
       "      <th>X4</th>\n",
       "      <th>X5</th>\n",
       "      <th>X6</th>\n",
       "      <th>X7</th>\n",
       "      <th>X8</th>\n",
       "      <th>Y1</th>\n",
       "      <th>Y2</th>\n",
       "    </tr>\n",
       "  </thead>\n",
       "  <tbody>\n",
       "    <tr>\n",
       "      <th>0</th>\n",
       "      <td>0.98</td>\n",
       "      <td>514.5</td>\n",
       "      <td>294.0</td>\n",
       "      <td>110.25</td>\n",
       "      <td>7.0</td>\n",
       "      <td>2</td>\n",
       "      <td>0.0</td>\n",
       "      <td>0</td>\n",
       "      <td>15.55</td>\n",
       "      <td>21.33</td>\n",
       "    </tr>\n",
       "    <tr>\n",
       "      <th>1</th>\n",
       "      <td>0.98</td>\n",
       "      <td>514.5</td>\n",
       "      <td>294.0</td>\n",
       "      <td>110.25</td>\n",
       "      <td>7.0</td>\n",
       "      <td>3</td>\n",
       "      <td>0.0</td>\n",
       "      <td>0</td>\n",
       "      <td>15.55</td>\n",
       "      <td>21.33</td>\n",
       "    </tr>\n",
       "    <tr>\n",
       "      <th>2</th>\n",
       "      <td>0.98</td>\n",
       "      <td>514.5</td>\n",
       "      <td>294.0</td>\n",
       "      <td>110.25</td>\n",
       "      <td>7.0</td>\n",
       "      <td>4</td>\n",
       "      <td>0.0</td>\n",
       "      <td>0</td>\n",
       "      <td>15.55</td>\n",
       "      <td>21.33</td>\n",
       "    </tr>\n",
       "    <tr>\n",
       "      <th>3</th>\n",
       "      <td>0.98</td>\n",
       "      <td>514.5</td>\n",
       "      <td>294.0</td>\n",
       "      <td>110.25</td>\n",
       "      <td>7.0</td>\n",
       "      <td>5</td>\n",
       "      <td>0.0</td>\n",
       "      <td>0</td>\n",
       "      <td>15.55</td>\n",
       "      <td>21.33</td>\n",
       "    </tr>\n",
       "    <tr>\n",
       "      <th>4</th>\n",
       "      <td>0.90</td>\n",
       "      <td>563.5</td>\n",
       "      <td>318.5</td>\n",
       "      <td>122.50</td>\n",
       "      <td>7.0</td>\n",
       "      <td>2</td>\n",
       "      <td>0.0</td>\n",
       "      <td>0</td>\n",
       "      <td>20.84</td>\n",
       "      <td>28.28</td>\n",
       "    </tr>\n",
       "    <tr>\n",
       "      <th>...</th>\n",
       "      <td>...</td>\n",
       "      <td>...</td>\n",
       "      <td>...</td>\n",
       "      <td>...</td>\n",
       "      <td>...</td>\n",
       "      <td>...</td>\n",
       "      <td>...</td>\n",
       "      <td>...</td>\n",
       "      <td>...</td>\n",
       "      <td>...</td>\n",
       "    </tr>\n",
       "    <tr>\n",
       "      <th>763</th>\n",
       "      <td>0.64</td>\n",
       "      <td>784.0</td>\n",
       "      <td>343.0</td>\n",
       "      <td>220.50</td>\n",
       "      <td>3.5</td>\n",
       "      <td>5</td>\n",
       "      <td>0.4</td>\n",
       "      <td>5</td>\n",
       "      <td>17.88</td>\n",
       "      <td>21.40</td>\n",
       "    </tr>\n",
       "    <tr>\n",
       "      <th>764</th>\n",
       "      <td>0.62</td>\n",
       "      <td>808.5</td>\n",
       "      <td>367.5</td>\n",
       "      <td>220.50</td>\n",
       "      <td>3.5</td>\n",
       "      <td>2</td>\n",
       "      <td>0.4</td>\n",
       "      <td>5</td>\n",
       "      <td>16.54</td>\n",
       "      <td>16.88</td>\n",
       "    </tr>\n",
       "    <tr>\n",
       "      <th>765</th>\n",
       "      <td>0.62</td>\n",
       "      <td>808.5</td>\n",
       "      <td>367.5</td>\n",
       "      <td>220.50</td>\n",
       "      <td>3.5</td>\n",
       "      <td>3</td>\n",
       "      <td>0.4</td>\n",
       "      <td>5</td>\n",
       "      <td>16.44</td>\n",
       "      <td>17.11</td>\n",
       "    </tr>\n",
       "    <tr>\n",
       "      <th>766</th>\n",
       "      <td>0.62</td>\n",
       "      <td>808.5</td>\n",
       "      <td>367.5</td>\n",
       "      <td>220.50</td>\n",
       "      <td>3.5</td>\n",
       "      <td>4</td>\n",
       "      <td>0.4</td>\n",
       "      <td>5</td>\n",
       "      <td>16.48</td>\n",
       "      <td>16.61</td>\n",
       "    </tr>\n",
       "    <tr>\n",
       "      <th>767</th>\n",
       "      <td>0.62</td>\n",
       "      <td>808.5</td>\n",
       "      <td>367.5</td>\n",
       "      <td>220.50</td>\n",
       "      <td>3.5</td>\n",
       "      <td>5</td>\n",
       "      <td>0.4</td>\n",
       "      <td>5</td>\n",
       "      <td>16.64</td>\n",
       "      <td>16.03</td>\n",
       "    </tr>\n",
       "  </tbody>\n",
       "</table>\n",
       "<p>768 rows × 10 columns</p>\n",
       "</div>"
      ],
      "text/plain": [
       "       X1     X2     X3      X4   X5  X6   X7  X8     Y1     Y2\n",
       "0    0.98  514.5  294.0  110.25  7.0   2  0.0   0  15.55  21.33\n",
       "1    0.98  514.5  294.0  110.25  7.0   3  0.0   0  15.55  21.33\n",
       "2    0.98  514.5  294.0  110.25  7.0   4  0.0   0  15.55  21.33\n",
       "3    0.98  514.5  294.0  110.25  7.0   5  0.0   0  15.55  21.33\n",
       "4    0.90  563.5  318.5  122.50  7.0   2  0.0   0  20.84  28.28\n",
       "..    ...    ...    ...     ...  ...  ..  ...  ..    ...    ...\n",
       "763  0.64  784.0  343.0  220.50  3.5   5  0.4   5  17.88  21.40\n",
       "764  0.62  808.5  367.5  220.50  3.5   2  0.4   5  16.54  16.88\n",
       "765  0.62  808.5  367.5  220.50  3.5   3  0.4   5  16.44  17.11\n",
       "766  0.62  808.5  367.5  220.50  3.5   4  0.4   5  16.48  16.61\n",
       "767  0.62  808.5  367.5  220.50  3.5   5  0.4   5  16.64  16.03\n",
       "\n",
       "[768 rows x 10 columns]"
      ]
     },
     "execution_count": 4,
     "metadata": {},
     "output_type": "execute_result"
    }
   ],
   "source": [
    "df = pd.read_csv('ENB2012_data.csv')\n",
    "df"
   ]
  },
  {
   "cell_type": "code",
   "execution_count": 5,
   "id": "0e9f0699",
   "metadata": {},
   "outputs": [
    {
     "name": "stdout",
     "output_type": "stream",
     "text": [
      "X1    0\n",
      "X2    0\n",
      "X3    0\n",
      "X4    0\n",
      "X5    0\n",
      "X6    0\n",
      "X7    0\n",
      "X8    0\n",
      "Y1    0\n",
      "Y2    0\n",
      "dtype: int64\n"
     ]
    }
   ],
   "source": [
    "#detect missing values\n",
    "print(df.isnull().sum())"
   ]
  },
  {
   "cell_type": "markdown",
   "id": "78ad2478",
   "metadata": {},
   "source": [
    "We don't have any missing values.\n",
    "\n",
    "We don't have any categorical variable."
   ]
  },
  {
   "cell_type": "code",
   "execution_count": 7,
   "id": "4ef2896b",
   "metadata": {},
   "outputs": [
    {
     "name": "stdout",
     "output_type": "stream",
     "text": [
      "(array([], dtype=int64), array([], dtype=int64))\n"
     ]
    }
   ],
   "source": [
    "#check for outliers\n",
    "#z-score\n",
    "\n",
    "from scipy import stats as st\n",
    "z = np.abs(st.zscore(df))\n",
    "print(np.where(z > 3))"
   ]
  },
  {
   "cell_type": "markdown",
   "id": "4825daed",
   "metadata": {},
   "source": [
    "We don't have any outliers."
   ]
  },
  {
   "cell_type": "markdown",
   "id": "6486ac81",
   "metadata": {},
   "source": [
    "# Split Data"
   ]
  },
  {
   "cell_type": "code",
   "execution_count": 8,
   "id": "eaab72e7",
   "metadata": {},
   "outputs": [],
   "source": [
    "#train-validation-test\n",
    "#split the data into 3 as 60% train, 20% validation and 20% test."
   ]
  },
  {
   "cell_type": "code",
   "execution_count": 9,
   "id": "17125213",
   "metadata": {},
   "outputs": [],
   "source": [
    "train, validate, test = np.split(df.sample(frac=1, random_state=42), [int(.6*len(df)), int(.8*len(df))])"
   ]
  },
  {
   "cell_type": "code",
   "execution_count": 10,
   "id": "4a4f9f81",
   "metadata": {},
   "outputs": [
    {
     "name": "stdout",
     "output_type": "stream",
     "text": [
      "train        X1     X2     X3      X4   X5  X6    X7  X8     Y1     Y2\n",
      "668  0.62  808.5  367.5  220.50  3.5   2  0.40   3  16.47  16.90\n",
      "324  0.66  759.5  318.5  220.50  3.5   2  0.25   1  13.17  16.39\n",
      "624  0.98  514.5  294.0  110.25  7.0   2  0.40   3  32.82  32.78\n",
      "690  0.79  637.0  343.0  147.00  7.0   4  0.40   4  41.32  46.23\n",
      "473  0.64  784.0  343.0  220.50  3.5   3  0.25   4  16.69  19.76\n",
      "..    ...    ...    ...     ...  ...  ..   ...  ..    ...    ...\n",
      "190  0.62  808.5  367.5  220.50  3.5   4  0.10   3  12.71  14.14\n",
      "115  0.79  637.0  343.0  147.00  7.0   5  0.10   2  36.03  42.86\n",
      "732  0.82  612.5  318.5  147.00  7.0   2  0.40   5  30.00  29.93\n",
      "467  0.69  735.0  294.0  220.50  3.5   5  0.25   4  12.86  16.13\n",
      "94   0.62  808.5  367.5  220.50  3.5   4  0.10   1  12.93  14.33\n",
      "\n",
      "[460 rows x 10 columns]\n",
      "validate        X1     X2     X3      X4   X5  X6    X7  X8     Y1     Y2\n",
      "180  0.66  759.5  318.5  220.50  3.5   2  0.10   3  11.59  13.46\n",
      "301  0.82  612.5  318.5  147.00  7.0   3  0.25   1  27.27  27.84\n",
      "736  0.79  637.0  343.0  147.00  7.0   2  0.40   5  42.11  38.56\n",
      "569  0.64  784.0  343.0  220.50  3.5   3  0.40   1  19.36  22.73\n",
      "628  0.90  563.5  318.5  122.50  7.0   2  0.40   3  34.24  37.26\n",
      "..    ...    ...    ...     ...  ...  ..   ...  ..    ...    ...\n",
      "384  0.98  514.5  294.0  110.25  7.0   2  0.25   3  28.67  29.43\n",
      "224  0.69  735.0  294.0  220.50  3.5   2  0.10   4  11.18  14.29\n",
      "729  0.86  588.0  294.0  147.00  7.0   3  0.40   5  31.81  31.20\n",
      "630  0.90  563.5  318.5  122.50  7.0   4  0.40   3  35.05  33.82\n",
      "472  0.64  784.0  343.0  220.50  3.5   2  0.25   4  16.99  19.65\n",
      "\n",
      "[154 rows x 10 columns]\n",
      "test        X1     X2     X3      X4   X5  X6    X7  X8     Y1     Y2\n",
      "347  0.86  588.0  294.0  147.00  7.0   5  0.25   2  28.40  34.52\n",
      "505  0.74  686.0  245.0  220.50  3.5   3  0.25   5  11.67  14.58\n",
      "756  0.66  759.5  318.5  220.50  3.5   2  0.40   5  14.96  17.64\n",
      "710  0.66  759.5  318.5  220.50  3.5   4  0.40   4  15.09  18.36\n",
      "693  0.76  661.5  416.5  122.50  7.0   3  0.40   4  40.40  39.67\n",
      "..    ...    ...    ...     ...  ...  ..   ...  ..    ...    ...\n",
      "71   0.76  661.5  416.5  122.50  7.0   5  0.10   1  32.21  33.67\n",
      "106  0.86  588.0  294.0  147.00  7.0   4  0.10   2  26.33  27.36\n",
      "270  0.71  710.5  269.5  220.50  3.5   4  0.10   5  10.67  14.26\n",
      "435  0.98  514.5  294.0  110.25  7.0   5  0.25   4  28.62  30.12\n",
      "102  0.90  563.5  318.5  122.50  7.0   4  0.10   2  28.83  29.36\n",
      "\n",
      "[154 rows x 10 columns]\n"
     ]
    }
   ],
   "source": [
    "print(\"train\", train)\n",
    "print(\"validate\", validate)\n",
    "print(\"test\", test)"
   ]
  },
  {
   "cell_type": "code",
   "execution_count": 11,
   "id": "a0c5994b",
   "metadata": {},
   "outputs": [],
   "source": [
    "#split x columns and y columns"
   ]
  },
  {
   "cell_type": "code",
   "execution_count": 12,
   "id": "76a19559",
   "metadata": {},
   "outputs": [],
   "source": [
    "x_train = train.iloc[:,:-2]\n",
    "y_train = train.iloc[:,8:]\n",
    "x_valid = validate.iloc[:,:-2]\n",
    "y_valid = validate.iloc[:,8:]\n",
    "x_test = test.iloc[:,:-2]\n",
    "y_test = test.iloc[:,8:]"
   ]
  },
  {
   "cell_type": "markdown",
   "id": "731cbf08",
   "metadata": {},
   "source": [
    "RMSE\n",
    "score function"
   ]
  },
  {
   "cell_type": "code",
   "execution_count": 13,
   "id": "e6a139d1",
   "metadata": {},
   "outputs": [],
   "source": [
    "def rmse(x,y):\n",
    "    return math.sqrt(((x-y)**2).mean())"
   ]
  },
  {
   "cell_type": "code",
   "execution_count": 14,
   "id": "4dd4d7ce",
   "metadata": {},
   "outputs": [],
   "source": [
    "def print_score(m):\n",
    "    m.fit(x_train, y_train)\n",
    "    \n",
    "    print(f\"R^2 of train set: {m.score(x_train, y_train)}\")\n",
    "    print(f\"R^2 of validation set: {m.score(x_valid, y_valid)}\")"
   ]
  },
  {
   "cell_type": "markdown",
   "id": "75c34e9f",
   "metadata": {},
   "source": [
    "# Random Forest Regressor"
   ]
  },
  {
   "cell_type": "code",
   "execution_count": null,
   "id": "b7e6bb72",
   "metadata": {},
   "outputs": [],
   "source": [
    "# try to find the RandomForestRegressor model that gives the best r^2 score by changing the max_features and \n",
    "# max_leaf_nodes parameters with the tree numbers given below"
   ]
  }
 ],
 "metadata": {
  "kernelspec": {
   "display_name": "Python 3 (ipykernel)",
   "language": "python",
   "name": "python3"
  },
  "language_info": {
   "codemirror_mode": {
    "name": "ipython",
    "version": 3
   },
   "file_extension": ".py",
   "mimetype": "text/x-python",
   "name": "python",
   "nbconvert_exporter": "python",
   "pygments_lexer": "ipython3",
   "version": "3.9.7"
  }
 },
 "nbformat": 4,
 "nbformat_minor": 5
}
